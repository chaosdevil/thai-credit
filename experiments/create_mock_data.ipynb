{
 "cells": [
  {
   "cell_type": "code",
   "execution_count": 37,
   "metadata": {},
   "outputs": [],
   "source": [
    "import sqlite3"
   ]
  },
  {
   "cell_type": "code",
   "execution_count": 45,
   "metadata": {},
   "outputs": [],
   "source": [
    "conn = sqlite3.connect(\"../sqlite.db\")"
   ]
  },
  {
   "cell_type": "code",
   "execution_count": 46,
   "metadata": {},
   "outputs": [],
   "source": [
    "cursor = conn.cursor()"
   ]
  },
  {
   "cell_type": "code",
   "execution_count": 40,
   "metadata": {},
   "outputs": [
    {
     "ename": "OperationalError",
     "evalue": "table test already exists",
     "output_type": "error",
     "traceback": [
      "\u001b[0;31m---------------------------------------------------------------------------\u001b[0m",
      "\u001b[0;31mOperationalError\u001b[0m                          Traceback (most recent call last)",
      "Cell \u001b[0;32mIn[40], line 19\u001b[0m\n\u001b[1;32m      1\u001b[0m \u001b[38;5;66;03m# create table \u001b[39;00m\n\u001b[1;32m      3\u001b[0m create_table_script \u001b[38;5;241m=\u001b[39m \u001b[38;5;124m\"\"\"\u001b[39m\n\u001b[1;32m      4\u001b[0m \u001b[38;5;124mCREATE TABLE test(\u001b[39m\n\u001b[1;32m      5\u001b[0m \u001b[38;5;124m    cif_no int, \u001b[39m\n\u001b[0;32m   (...)\u001b[0m\n\u001b[1;32m     17\u001b[0m \u001b[38;5;124m);\u001b[39m\n\u001b[1;32m     18\u001b[0m \u001b[38;5;124m\"\"\"\u001b[39m\n\u001b[0;32m---> 19\u001b[0m \u001b[43mcursor\u001b[49m\u001b[38;5;241;43m.\u001b[39;49m\u001b[43mexecute\u001b[49m\u001b[43m(\u001b[49m\u001b[43mcreate_table_script\u001b[49m\u001b[43m)\u001b[49m\n",
      "\u001b[0;31mOperationalError\u001b[0m: table test already exists"
     ]
    }
   ],
   "source": [
    "# create table \n",
    "\n",
    "create_table_script = \"\"\"\n",
    "CREATE TABLE test(\n",
    "    cif_no int, \n",
    "    name varchar(256), \n",
    "    t_band varchar(5),\n",
    "    cif_dpd int,\n",
    "    cif_due int,\n",
    "    acct_no bigint,\n",
    "    cbal int,\n",
    "    cif_class_mth varchar(5),\n",
    "    bu varchar(50),\n",
    "    a_type varchar(5),\n",
    "    tcg_notcg varchar(50),\n",
    "    collateral varchar(50)\n",
    ");\n",
    "\"\"\"\n",
    "cursor.execute(create_table_script)"
   ]
  },
  {
   "cell_type": "code",
   "execution_count": 41,
   "metadata": {},
   "outputs": [
    {
     "data": {
      "text/plain": [
       "<sqlite3.Cursor at 0x1108a44c0>"
      ]
     },
     "execution_count": 41,
     "metadata": {},
     "output_type": "execute_result"
    }
   ],
   "source": [
    "insert_script = \"\"\"\n",
    "insert into test \n",
    "values\n",
    "(3000168, \"นางสาวบัณฑิตา ยิ้มฉอด\", \"L\", 0, 1, 20023001704, 698550, \"A\", \"C) HLRL\", \"IA\", \"NO_TCG\", \"โฉนดที่ดิน (ที่ดินพร้อมสิ่งปลูกสร้าง)\"),\n",
    "(3000168, \"นางสาวบัณฑิตา ยิ้มฉอด\", \"L\", 0, 1, 20023001719, 380905, \"A\", \"C) HLRL\", \"IE\", \"NO_TCG\", \"โฉนดที่ดิน (ที่ดินพร้อมสิ่งปลูกสร้าง)\")\n",
    "\"\"\"\n",
    "cursor.execute(insert_script)"
   ]
  },
  {
   "cell_type": "code",
   "execution_count": 42,
   "metadata": {},
   "outputs": [
    {
     "data": {
      "text/plain": [
       "<sqlite3.Cursor at 0x1108a44c0>"
      ]
     },
     "execution_count": 42,
     "metadata": {},
     "output_type": "execute_result"
    }
   ],
   "source": [
    "insert_script = \"\"\"\n",
    "insert into test \n",
    "values\n",
    "(3000169, \"นางสาวชลดา ประสงค์ธรรม\", \"L\", 0, 1, 20023001704, 698550, \"A\", \"C) HLRL\", \"IA\", \"NO_TCG\", \"โฉนดที่ดิน (ที่ดินพร้อมสิ่งปลูกสร้าง)\"),\n",
    "(3000169, \"นางสาวชลดา ประสงค์ธรรม\", \"L\", 0, 1, 20023001719, 380905, \"A\", \"C) HLRL\", \"IE\", \"NO_TCG\", \"โฉนดที่ดิน (ที่ดินพร้อมสิ่งปลูกสร้าง)\")\n",
    "\"\"\"\n",
    "cursor.execute(insert_script)"
   ]
  },
  {
   "cell_type": "code",
   "execution_count": 47,
   "metadata": {},
   "outputs": [
    {
     "name": "stdout",
     "output_type": "stream",
     "text": [
      "2\n",
      "(3000168, 'นางสาวบัณฑิตา ยิ้มฉอด', 'L', 0, 1, 20023001704, 698550, 'A', 'C) HLRL', 'IA', 'NO_TCG', 'โฉนดที่ดิน (ที่ดินพร้อมสิ่งปลูกสร้าง)')\n",
      "(3000168, 'นางสาวบัณฑิตา ยิ้มฉอด', 'L', 0, 1, 20023001719, 380905, 'A', 'C) HLRL', 'IE', 'NO_TCG', 'โฉนดที่ดิน (ที่ดินพร้อมสิ่งปลูกสร้าง)')\n"
     ]
    }
   ],
   "source": [
    "query_script = \"\"\"\n",
    "select * from test\n",
    "where cif_no = 3000168\n",
    "\"\"\"\n",
    "cursor.execute(query_script)\n",
    "\n",
    "data = cursor.fetchall()\n",
    "\n",
    "print(len(data))\n",
    "for dat in data:\n",
    "    print(dat)"
   ]
  },
  {
   "cell_type": "code",
   "execution_count": 44,
   "metadata": {},
   "outputs": [],
   "source": [
    "# save permanently\n",
    "conn.commit()\n",
    "\n",
    "# close connection when finished\n",
    "cursor.close()\n",
    "conn.close()"
   ]
  },
  {
   "cell_type": "code",
   "execution_count": null,
   "metadata": {},
   "outputs": [],
   "source": []
  }
 ],
 "metadata": {
  "kernelspec": {
   "display_name": "web-app",
   "language": "python",
   "name": "python3"
  },
  "language_info": {
   "codemirror_mode": {
    "name": "ipython",
    "version": 3
   },
   "file_extension": ".py",
   "mimetype": "text/x-python",
   "name": "python",
   "nbconvert_exporter": "python",
   "pygments_lexer": "ipython3",
   "version": "3.11.5"
  }
 },
 "nbformat": 4,
 "nbformat_minor": 2
}
